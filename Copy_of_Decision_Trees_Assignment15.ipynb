{
  "nbformat": 4,
  "nbformat_minor": 0,
  "metadata": {
    "colab": {
      "name": "Copy of Decision_Trees_Assignment15.ipynb",
      "provenance": [],
      "collapsed_sections": [],
      "include_colab_link": true
    },
    "kernelspec": {
      "name": "python3",
      "display_name": "Python 3"
    },
    "language_info": {
      "name": "python"
    }
  },
  "cells": [
    {
      "cell_type": "markdown",
      "metadata": {
        "id": "view-in-github",
        "colab_type": "text"
      },
      "source": [
        "<a href=\"https://colab.research.google.com/github/ankitaattavar/Supervsied-ML-algorithms/blob/main/Copy_of_Decision_Trees_Assignment15.ipynb\" target=\"_parent\"><img src=\"https://colab.research.google.com/assets/colab-badge.svg\" alt=\"Open In Colab\"/></a>"
      ]
    },
    {
      "cell_type": "code",
      "metadata": {
        "id": "eqp7Q6rWnX20"
      },
      "source": [
        "#Social_Network_Ads.csv"
      ],
      "execution_count": null,
      "outputs": []
    },
    {
      "cell_type": "markdown",
      "metadata": {
        "id": "1jSlqZcZnmrD"
      },
      "source": [
        "**Importing the libraries**"
      ]
    },
    {
      "cell_type": "code",
      "metadata": {
        "id": "ACJTKMfInp-E"
      },
      "source": [
        "import pandas as pd\n",
        "import numpy as np"
      ],
      "execution_count": null,
      "outputs": []
    },
    {
      "cell_type": "markdown",
      "metadata": {
        "id": "fRZkaj-dnxIj"
      },
      "source": [
        "**Importing the dataset**"
      ]
    },
    {
      "cell_type": "code",
      "metadata": {
        "id": "SfTR4mVDnqBV",
        "colab": {
          "base_uri": "https://localhost:8080/",
          "height": 206
        },
        "outputId": "a1f10375-6273-4c35-a0c1-05bd2360fe3e"
      },
      "source": [
        "df=pd.read_csv('/content/Social_Network_Ads.csv')\n",
        "df.head()"
      ],
      "execution_count": null,
      "outputs": [
        {
          "output_type": "execute_result",
          "data": {
            "text/plain": [
              "    User ID  Gender  Age  EstimatedSalary  Purchased\n",
              "0  15624510    Male   19            19000          0\n",
              "1  15810944    Male   35            20000          0\n",
              "2  15668575  Female   26            43000          0\n",
              "3  15603246  Female   27            57000          0\n",
              "4  15804002    Male   19            76000          0"
            ],
            "text/html": [
              "\n",
              "  <div id=\"df-f3212a73-9937-45bd-ae95-69ff313835d9\">\n",
              "    <div class=\"colab-df-container\">\n",
              "      <div>\n",
              "<style scoped>\n",
              "    .dataframe tbody tr th:only-of-type {\n",
              "        vertical-align: middle;\n",
              "    }\n",
              "\n",
              "    .dataframe tbody tr th {\n",
              "        vertical-align: top;\n",
              "    }\n",
              "\n",
              "    .dataframe thead th {\n",
              "        text-align: right;\n",
              "    }\n",
              "</style>\n",
              "<table border=\"1\" class=\"dataframe\">\n",
              "  <thead>\n",
              "    <tr style=\"text-align: right;\">\n",
              "      <th></th>\n",
              "      <th>User ID</th>\n",
              "      <th>Gender</th>\n",
              "      <th>Age</th>\n",
              "      <th>EstimatedSalary</th>\n",
              "      <th>Purchased</th>\n",
              "    </tr>\n",
              "  </thead>\n",
              "  <tbody>\n",
              "    <tr>\n",
              "      <th>0</th>\n",
              "      <td>15624510</td>\n",
              "      <td>Male</td>\n",
              "      <td>19</td>\n",
              "      <td>19000</td>\n",
              "      <td>0</td>\n",
              "    </tr>\n",
              "    <tr>\n",
              "      <th>1</th>\n",
              "      <td>15810944</td>\n",
              "      <td>Male</td>\n",
              "      <td>35</td>\n",
              "      <td>20000</td>\n",
              "      <td>0</td>\n",
              "    </tr>\n",
              "    <tr>\n",
              "      <th>2</th>\n",
              "      <td>15668575</td>\n",
              "      <td>Female</td>\n",
              "      <td>26</td>\n",
              "      <td>43000</td>\n",
              "      <td>0</td>\n",
              "    </tr>\n",
              "    <tr>\n",
              "      <th>3</th>\n",
              "      <td>15603246</td>\n",
              "      <td>Female</td>\n",
              "      <td>27</td>\n",
              "      <td>57000</td>\n",
              "      <td>0</td>\n",
              "    </tr>\n",
              "    <tr>\n",
              "      <th>4</th>\n",
              "      <td>15804002</td>\n",
              "      <td>Male</td>\n",
              "      <td>19</td>\n",
              "      <td>76000</td>\n",
              "      <td>0</td>\n",
              "    </tr>\n",
              "  </tbody>\n",
              "</table>\n",
              "</div>\n",
              "      <button class=\"colab-df-convert\" onclick=\"convertToInteractive('df-f3212a73-9937-45bd-ae95-69ff313835d9')\"\n",
              "              title=\"Convert this dataframe to an interactive table.\"\n",
              "              style=\"display:none;\">\n",
              "        \n",
              "  <svg xmlns=\"http://www.w3.org/2000/svg\" height=\"24px\"viewBox=\"0 0 24 24\"\n",
              "       width=\"24px\">\n",
              "    <path d=\"M0 0h24v24H0V0z\" fill=\"none\"/>\n",
              "    <path d=\"M18.56 5.44l.94 2.06.94-2.06 2.06-.94-2.06-.94-.94-2.06-.94 2.06-2.06.94zm-11 1L8.5 8.5l.94-2.06 2.06-.94-2.06-.94L8.5 2.5l-.94 2.06-2.06.94zm10 10l.94 2.06.94-2.06 2.06-.94-2.06-.94-.94-2.06-.94 2.06-2.06.94z\"/><path d=\"M17.41 7.96l-1.37-1.37c-.4-.4-.92-.59-1.43-.59-.52 0-1.04.2-1.43.59L10.3 9.45l-7.72 7.72c-.78.78-.78 2.05 0 2.83L4 21.41c.39.39.9.59 1.41.59.51 0 1.02-.2 1.41-.59l7.78-7.78 2.81-2.81c.8-.78.8-2.07 0-2.86zM5.41 20L4 18.59l7.72-7.72 1.47 1.35L5.41 20z\"/>\n",
              "  </svg>\n",
              "      </button>\n",
              "      \n",
              "  <style>\n",
              "    .colab-df-container {\n",
              "      display:flex;\n",
              "      flex-wrap:wrap;\n",
              "      gap: 12px;\n",
              "    }\n",
              "\n",
              "    .colab-df-convert {\n",
              "      background-color: #E8F0FE;\n",
              "      border: none;\n",
              "      border-radius: 50%;\n",
              "      cursor: pointer;\n",
              "      display: none;\n",
              "      fill: #1967D2;\n",
              "      height: 32px;\n",
              "      padding: 0 0 0 0;\n",
              "      width: 32px;\n",
              "    }\n",
              "\n",
              "    .colab-df-convert:hover {\n",
              "      background-color: #E2EBFA;\n",
              "      box-shadow: 0px 1px 2px rgba(60, 64, 67, 0.3), 0px 1px 3px 1px rgba(60, 64, 67, 0.15);\n",
              "      fill: #174EA6;\n",
              "    }\n",
              "\n",
              "    [theme=dark] .colab-df-convert {\n",
              "      background-color: #3B4455;\n",
              "      fill: #D2E3FC;\n",
              "    }\n",
              "\n",
              "    [theme=dark] .colab-df-convert:hover {\n",
              "      background-color: #434B5C;\n",
              "      box-shadow: 0px 1px 3px 1px rgba(0, 0, 0, 0.15);\n",
              "      filter: drop-shadow(0px 1px 2px rgba(0, 0, 0, 0.3));\n",
              "      fill: #FFFFFF;\n",
              "    }\n",
              "  </style>\n",
              "\n",
              "      <script>\n",
              "        const buttonEl =\n",
              "          document.querySelector('#df-f3212a73-9937-45bd-ae95-69ff313835d9 button.colab-df-convert');\n",
              "        buttonEl.style.display =\n",
              "          google.colab.kernel.accessAllowed ? 'block' : 'none';\n",
              "\n",
              "        async function convertToInteractive(key) {\n",
              "          const element = document.querySelector('#df-f3212a73-9937-45bd-ae95-69ff313835d9');\n",
              "          const dataTable =\n",
              "            await google.colab.kernel.invokeFunction('convertToInteractive',\n",
              "                                                     [key], {});\n",
              "          if (!dataTable) return;\n",
              "\n",
              "          const docLinkHtml = 'Like what you see? Visit the ' +\n",
              "            '<a target=\"_blank\" href=https://colab.research.google.com/notebooks/data_table.ipynb>data table notebook</a>'\n",
              "            + ' to learn more about interactive tables.';\n",
              "          element.innerHTML = '';\n",
              "          dataTable['output_type'] = 'display_data';\n",
              "          await google.colab.output.renderOutput(dataTable, element);\n",
              "          const docLink = document.createElement('div');\n",
              "          docLink.innerHTML = docLinkHtml;\n",
              "          element.appendChild(docLink);\n",
              "        }\n",
              "      </script>\n",
              "    </div>\n",
              "  </div>\n",
              "  "
            ]
          },
          "metadata": {},
          "execution_count": 52
        }
      ]
    },
    {
      "cell_type": "code",
      "source": [
        "df.describe()"
      ],
      "metadata": {
        "colab": {
          "base_uri": "https://localhost:8080/",
          "height": 300
        },
        "id": "Js3nZmHuGp0C",
        "outputId": "25ec4114-c353-41bf-ca39-9fa6a406adee"
      },
      "execution_count": null,
      "outputs": [
        {
          "output_type": "execute_result",
          "data": {
            "text/plain": [
              "            User ID         Age  EstimatedSalary   Purchased\n",
              "count  4.000000e+02  400.000000       400.000000  400.000000\n",
              "mean   1.569154e+07   37.655000     69742.500000    0.357500\n",
              "std    7.165832e+04   10.482877     34096.960282    0.479864\n",
              "min    1.556669e+07   18.000000     15000.000000    0.000000\n",
              "25%    1.562676e+07   29.750000     43000.000000    0.000000\n",
              "50%    1.569434e+07   37.000000     70000.000000    0.000000\n",
              "75%    1.575036e+07   46.000000     88000.000000    1.000000\n",
              "max    1.581524e+07   60.000000    150000.000000    1.000000"
            ],
            "text/html": [
              "\n",
              "  <div id=\"df-97e0754a-4b7c-49e7-b18e-30b31115fec3\">\n",
              "    <div class=\"colab-df-container\">\n",
              "      <div>\n",
              "<style scoped>\n",
              "    .dataframe tbody tr th:only-of-type {\n",
              "        vertical-align: middle;\n",
              "    }\n",
              "\n",
              "    .dataframe tbody tr th {\n",
              "        vertical-align: top;\n",
              "    }\n",
              "\n",
              "    .dataframe thead th {\n",
              "        text-align: right;\n",
              "    }\n",
              "</style>\n",
              "<table border=\"1\" class=\"dataframe\">\n",
              "  <thead>\n",
              "    <tr style=\"text-align: right;\">\n",
              "      <th></th>\n",
              "      <th>User ID</th>\n",
              "      <th>Age</th>\n",
              "      <th>EstimatedSalary</th>\n",
              "      <th>Purchased</th>\n",
              "    </tr>\n",
              "  </thead>\n",
              "  <tbody>\n",
              "    <tr>\n",
              "      <th>count</th>\n",
              "      <td>4.000000e+02</td>\n",
              "      <td>400.000000</td>\n",
              "      <td>400.000000</td>\n",
              "      <td>400.000000</td>\n",
              "    </tr>\n",
              "    <tr>\n",
              "      <th>mean</th>\n",
              "      <td>1.569154e+07</td>\n",
              "      <td>37.655000</td>\n",
              "      <td>69742.500000</td>\n",
              "      <td>0.357500</td>\n",
              "    </tr>\n",
              "    <tr>\n",
              "      <th>std</th>\n",
              "      <td>7.165832e+04</td>\n",
              "      <td>10.482877</td>\n",
              "      <td>34096.960282</td>\n",
              "      <td>0.479864</td>\n",
              "    </tr>\n",
              "    <tr>\n",
              "      <th>min</th>\n",
              "      <td>1.556669e+07</td>\n",
              "      <td>18.000000</td>\n",
              "      <td>15000.000000</td>\n",
              "      <td>0.000000</td>\n",
              "    </tr>\n",
              "    <tr>\n",
              "      <th>25%</th>\n",
              "      <td>1.562676e+07</td>\n",
              "      <td>29.750000</td>\n",
              "      <td>43000.000000</td>\n",
              "      <td>0.000000</td>\n",
              "    </tr>\n",
              "    <tr>\n",
              "      <th>50%</th>\n",
              "      <td>1.569434e+07</td>\n",
              "      <td>37.000000</td>\n",
              "      <td>70000.000000</td>\n",
              "      <td>0.000000</td>\n",
              "    </tr>\n",
              "    <tr>\n",
              "      <th>75%</th>\n",
              "      <td>1.575036e+07</td>\n",
              "      <td>46.000000</td>\n",
              "      <td>88000.000000</td>\n",
              "      <td>1.000000</td>\n",
              "    </tr>\n",
              "    <tr>\n",
              "      <th>max</th>\n",
              "      <td>1.581524e+07</td>\n",
              "      <td>60.000000</td>\n",
              "      <td>150000.000000</td>\n",
              "      <td>1.000000</td>\n",
              "    </tr>\n",
              "  </tbody>\n",
              "</table>\n",
              "</div>\n",
              "      <button class=\"colab-df-convert\" onclick=\"convertToInteractive('df-97e0754a-4b7c-49e7-b18e-30b31115fec3')\"\n",
              "              title=\"Convert this dataframe to an interactive table.\"\n",
              "              style=\"display:none;\">\n",
              "        \n",
              "  <svg xmlns=\"http://www.w3.org/2000/svg\" height=\"24px\"viewBox=\"0 0 24 24\"\n",
              "       width=\"24px\">\n",
              "    <path d=\"M0 0h24v24H0V0z\" fill=\"none\"/>\n",
              "    <path d=\"M18.56 5.44l.94 2.06.94-2.06 2.06-.94-2.06-.94-.94-2.06-.94 2.06-2.06.94zm-11 1L8.5 8.5l.94-2.06 2.06-.94-2.06-.94L8.5 2.5l-.94 2.06-2.06.94zm10 10l.94 2.06.94-2.06 2.06-.94-2.06-.94-.94-2.06-.94 2.06-2.06.94z\"/><path d=\"M17.41 7.96l-1.37-1.37c-.4-.4-.92-.59-1.43-.59-.52 0-1.04.2-1.43.59L10.3 9.45l-7.72 7.72c-.78.78-.78 2.05 0 2.83L4 21.41c.39.39.9.59 1.41.59.51 0 1.02-.2 1.41-.59l7.78-7.78 2.81-2.81c.8-.78.8-2.07 0-2.86zM5.41 20L4 18.59l7.72-7.72 1.47 1.35L5.41 20z\"/>\n",
              "  </svg>\n",
              "      </button>\n",
              "      \n",
              "  <style>\n",
              "    .colab-df-container {\n",
              "      display:flex;\n",
              "      flex-wrap:wrap;\n",
              "      gap: 12px;\n",
              "    }\n",
              "\n",
              "    .colab-df-convert {\n",
              "      background-color: #E8F0FE;\n",
              "      border: none;\n",
              "      border-radius: 50%;\n",
              "      cursor: pointer;\n",
              "      display: none;\n",
              "      fill: #1967D2;\n",
              "      height: 32px;\n",
              "      padding: 0 0 0 0;\n",
              "      width: 32px;\n",
              "    }\n",
              "\n",
              "    .colab-df-convert:hover {\n",
              "      background-color: #E2EBFA;\n",
              "      box-shadow: 0px 1px 2px rgba(60, 64, 67, 0.3), 0px 1px 3px 1px rgba(60, 64, 67, 0.15);\n",
              "      fill: #174EA6;\n",
              "    }\n",
              "\n",
              "    [theme=dark] .colab-df-convert {\n",
              "      background-color: #3B4455;\n",
              "      fill: #D2E3FC;\n",
              "    }\n",
              "\n",
              "    [theme=dark] .colab-df-convert:hover {\n",
              "      background-color: #434B5C;\n",
              "      box-shadow: 0px 1px 3px 1px rgba(0, 0, 0, 0.15);\n",
              "      filter: drop-shadow(0px 1px 2px rgba(0, 0, 0, 0.3));\n",
              "      fill: #FFFFFF;\n",
              "    }\n",
              "  </style>\n",
              "\n",
              "      <script>\n",
              "        const buttonEl =\n",
              "          document.querySelector('#df-97e0754a-4b7c-49e7-b18e-30b31115fec3 button.colab-df-convert');\n",
              "        buttonEl.style.display =\n",
              "          google.colab.kernel.accessAllowed ? 'block' : 'none';\n",
              "\n",
              "        async function convertToInteractive(key) {\n",
              "          const element = document.querySelector('#df-97e0754a-4b7c-49e7-b18e-30b31115fec3');\n",
              "          const dataTable =\n",
              "            await google.colab.kernel.invokeFunction('convertToInteractive',\n",
              "                                                     [key], {});\n",
              "          if (!dataTable) return;\n",
              "\n",
              "          const docLinkHtml = 'Like what you see? Visit the ' +\n",
              "            '<a target=\"_blank\" href=https://colab.research.google.com/notebooks/data_table.ipynb>data table notebook</a>'\n",
              "            + ' to learn more about interactive tables.';\n",
              "          element.innerHTML = '';\n",
              "          dataTable['output_type'] = 'display_data';\n",
              "          await google.colab.output.renderOutput(dataTable, element);\n",
              "          const docLink = document.createElement('div');\n",
              "          docLink.innerHTML = docLinkHtml;\n",
              "          element.appendChild(docLink);\n",
              "        }\n",
              "      </script>\n",
              "    </div>\n",
              "  </div>\n",
              "  "
            ]
          },
          "metadata": {},
          "execution_count": 53
        }
      ]
    },
    {
      "cell_type": "code",
      "source": [
        "df.isnull().sum()"
      ],
      "metadata": {
        "colab": {
          "base_uri": "https://localhost:8080/"
        },
        "id": "pfnX3WfhGrvB",
        "outputId": "3d9458fc-d167-40e4-e74c-5256585c250a"
      },
      "execution_count": null,
      "outputs": [
        {
          "output_type": "execute_result",
          "data": {
            "text/plain": [
              "User ID            0\n",
              "Gender             0\n",
              "Age                0\n",
              "EstimatedSalary    0\n",
              "Purchased          0\n",
              "dtype: int64"
            ]
          },
          "metadata": {},
          "execution_count": 54
        }
      ]
    },
    {
      "cell_type": "code",
      "source": [
        "df=df.drop_duplicates()\n",
        "df.head(4)"
      ],
      "metadata": {
        "colab": {
          "base_uri": "https://localhost:8080/",
          "height": 175
        },
        "id": "HxKkB5snGum9",
        "outputId": "621ec147-3994-4e96-db98-cec1b82d5919"
      },
      "execution_count": null,
      "outputs": [
        {
          "output_type": "execute_result",
          "data": {
            "text/plain": [
              "    User ID  Gender  Age  EstimatedSalary  Purchased\n",
              "0  15624510    Male   19            19000          0\n",
              "1  15810944    Male   35            20000          0\n",
              "2  15668575  Female   26            43000          0\n",
              "3  15603246  Female   27            57000          0"
            ],
            "text/html": [
              "\n",
              "  <div id=\"df-bd6ffc86-2814-46e5-9b6c-dab7a09c9d4b\">\n",
              "    <div class=\"colab-df-container\">\n",
              "      <div>\n",
              "<style scoped>\n",
              "    .dataframe tbody tr th:only-of-type {\n",
              "        vertical-align: middle;\n",
              "    }\n",
              "\n",
              "    .dataframe tbody tr th {\n",
              "        vertical-align: top;\n",
              "    }\n",
              "\n",
              "    .dataframe thead th {\n",
              "        text-align: right;\n",
              "    }\n",
              "</style>\n",
              "<table border=\"1\" class=\"dataframe\">\n",
              "  <thead>\n",
              "    <tr style=\"text-align: right;\">\n",
              "      <th></th>\n",
              "      <th>User ID</th>\n",
              "      <th>Gender</th>\n",
              "      <th>Age</th>\n",
              "      <th>EstimatedSalary</th>\n",
              "      <th>Purchased</th>\n",
              "    </tr>\n",
              "  </thead>\n",
              "  <tbody>\n",
              "    <tr>\n",
              "      <th>0</th>\n",
              "      <td>15624510</td>\n",
              "      <td>Male</td>\n",
              "      <td>19</td>\n",
              "      <td>19000</td>\n",
              "      <td>0</td>\n",
              "    </tr>\n",
              "    <tr>\n",
              "      <th>1</th>\n",
              "      <td>15810944</td>\n",
              "      <td>Male</td>\n",
              "      <td>35</td>\n",
              "      <td>20000</td>\n",
              "      <td>0</td>\n",
              "    </tr>\n",
              "    <tr>\n",
              "      <th>2</th>\n",
              "      <td>15668575</td>\n",
              "      <td>Female</td>\n",
              "      <td>26</td>\n",
              "      <td>43000</td>\n",
              "      <td>0</td>\n",
              "    </tr>\n",
              "    <tr>\n",
              "      <th>3</th>\n",
              "      <td>15603246</td>\n",
              "      <td>Female</td>\n",
              "      <td>27</td>\n",
              "      <td>57000</td>\n",
              "      <td>0</td>\n",
              "    </tr>\n",
              "  </tbody>\n",
              "</table>\n",
              "</div>\n",
              "      <button class=\"colab-df-convert\" onclick=\"convertToInteractive('df-bd6ffc86-2814-46e5-9b6c-dab7a09c9d4b')\"\n",
              "              title=\"Convert this dataframe to an interactive table.\"\n",
              "              style=\"display:none;\">\n",
              "        \n",
              "  <svg xmlns=\"http://www.w3.org/2000/svg\" height=\"24px\"viewBox=\"0 0 24 24\"\n",
              "       width=\"24px\">\n",
              "    <path d=\"M0 0h24v24H0V0z\" fill=\"none\"/>\n",
              "    <path d=\"M18.56 5.44l.94 2.06.94-2.06 2.06-.94-2.06-.94-.94-2.06-.94 2.06-2.06.94zm-11 1L8.5 8.5l.94-2.06 2.06-.94-2.06-.94L8.5 2.5l-.94 2.06-2.06.94zm10 10l.94 2.06.94-2.06 2.06-.94-2.06-.94-.94-2.06-.94 2.06-2.06.94z\"/><path d=\"M17.41 7.96l-1.37-1.37c-.4-.4-.92-.59-1.43-.59-.52 0-1.04.2-1.43.59L10.3 9.45l-7.72 7.72c-.78.78-.78 2.05 0 2.83L4 21.41c.39.39.9.59 1.41.59.51 0 1.02-.2 1.41-.59l7.78-7.78 2.81-2.81c.8-.78.8-2.07 0-2.86zM5.41 20L4 18.59l7.72-7.72 1.47 1.35L5.41 20z\"/>\n",
              "  </svg>\n",
              "      </button>\n",
              "      \n",
              "  <style>\n",
              "    .colab-df-container {\n",
              "      display:flex;\n",
              "      flex-wrap:wrap;\n",
              "      gap: 12px;\n",
              "    }\n",
              "\n",
              "    .colab-df-convert {\n",
              "      background-color: #E8F0FE;\n",
              "      border: none;\n",
              "      border-radius: 50%;\n",
              "      cursor: pointer;\n",
              "      display: none;\n",
              "      fill: #1967D2;\n",
              "      height: 32px;\n",
              "      padding: 0 0 0 0;\n",
              "      width: 32px;\n",
              "    }\n",
              "\n",
              "    .colab-df-convert:hover {\n",
              "      background-color: #E2EBFA;\n",
              "      box-shadow: 0px 1px 2px rgba(60, 64, 67, 0.3), 0px 1px 3px 1px rgba(60, 64, 67, 0.15);\n",
              "      fill: #174EA6;\n",
              "    }\n",
              "\n",
              "    [theme=dark] .colab-df-convert {\n",
              "      background-color: #3B4455;\n",
              "      fill: #D2E3FC;\n",
              "    }\n",
              "\n",
              "    [theme=dark] .colab-df-convert:hover {\n",
              "      background-color: #434B5C;\n",
              "      box-shadow: 0px 1px 3px 1px rgba(0, 0, 0, 0.15);\n",
              "      filter: drop-shadow(0px 1px 2px rgba(0, 0, 0, 0.3));\n",
              "      fill: #FFFFFF;\n",
              "    }\n",
              "  </style>\n",
              "\n",
              "      <script>\n",
              "        const buttonEl =\n",
              "          document.querySelector('#df-bd6ffc86-2814-46e5-9b6c-dab7a09c9d4b button.colab-df-convert');\n",
              "        buttonEl.style.display =\n",
              "          google.colab.kernel.accessAllowed ? 'block' : 'none';\n",
              "\n",
              "        async function convertToInteractive(key) {\n",
              "          const element = document.querySelector('#df-bd6ffc86-2814-46e5-9b6c-dab7a09c9d4b');\n",
              "          const dataTable =\n",
              "            await google.colab.kernel.invokeFunction('convertToInteractive',\n",
              "                                                     [key], {});\n",
              "          if (!dataTable) return;\n",
              "\n",
              "          const docLinkHtml = 'Like what you see? Visit the ' +\n",
              "            '<a target=\"_blank\" href=https://colab.research.google.com/notebooks/data_table.ipynb>data table notebook</a>'\n",
              "            + ' to learn more about interactive tables.';\n",
              "          element.innerHTML = '';\n",
              "          dataTable['output_type'] = 'display_data';\n",
              "          await google.colab.output.renderOutput(dataTable, element);\n",
              "          const docLink = document.createElement('div');\n",
              "          docLink.innerHTML = docLinkHtml;\n",
              "          element.appendChild(docLink);\n",
              "        }\n",
              "      </script>\n",
              "    </div>\n",
              "  </div>\n",
              "  "
            ]
          },
          "metadata": {},
          "execution_count": 55
        }
      ]
    },
    {
      "cell_type": "code",
      "source": [
        "# Encoding Gender\n",
        "from sklearn import preprocessing\n",
        "  \n",
        "le=preprocessing.LabelEncoder()\n",
        "df['Gender']=le.fit_transform(df['Gender'])\n",
        "df.head()"
      ],
      "metadata": {
        "colab": {
          "base_uri": "https://localhost:8080/",
          "height": 206
        },
        "id": "1dspUsNlIPk-",
        "outputId": "8f10084c-8bbe-4205-e9b9-c1f387dd56b4"
      },
      "execution_count": null,
      "outputs": [
        {
          "output_type": "execute_result",
          "data": {
            "text/plain": [
              "    User ID  Gender  Age  EstimatedSalary  Purchased\n",
              "0  15624510       1   19            19000          0\n",
              "1  15810944       1   35            20000          0\n",
              "2  15668575       0   26            43000          0\n",
              "3  15603246       0   27            57000          0\n",
              "4  15804002       1   19            76000          0"
            ],
            "text/html": [
              "\n",
              "  <div id=\"df-4dc9f627-8f64-4da2-b211-82cd1314c900\">\n",
              "    <div class=\"colab-df-container\">\n",
              "      <div>\n",
              "<style scoped>\n",
              "    .dataframe tbody tr th:only-of-type {\n",
              "        vertical-align: middle;\n",
              "    }\n",
              "\n",
              "    .dataframe tbody tr th {\n",
              "        vertical-align: top;\n",
              "    }\n",
              "\n",
              "    .dataframe thead th {\n",
              "        text-align: right;\n",
              "    }\n",
              "</style>\n",
              "<table border=\"1\" class=\"dataframe\">\n",
              "  <thead>\n",
              "    <tr style=\"text-align: right;\">\n",
              "      <th></th>\n",
              "      <th>User ID</th>\n",
              "      <th>Gender</th>\n",
              "      <th>Age</th>\n",
              "      <th>EstimatedSalary</th>\n",
              "      <th>Purchased</th>\n",
              "    </tr>\n",
              "  </thead>\n",
              "  <tbody>\n",
              "    <tr>\n",
              "      <th>0</th>\n",
              "      <td>15624510</td>\n",
              "      <td>1</td>\n",
              "      <td>19</td>\n",
              "      <td>19000</td>\n",
              "      <td>0</td>\n",
              "    </tr>\n",
              "    <tr>\n",
              "      <th>1</th>\n",
              "      <td>15810944</td>\n",
              "      <td>1</td>\n",
              "      <td>35</td>\n",
              "      <td>20000</td>\n",
              "      <td>0</td>\n",
              "    </tr>\n",
              "    <tr>\n",
              "      <th>2</th>\n",
              "      <td>15668575</td>\n",
              "      <td>0</td>\n",
              "      <td>26</td>\n",
              "      <td>43000</td>\n",
              "      <td>0</td>\n",
              "    </tr>\n",
              "    <tr>\n",
              "      <th>3</th>\n",
              "      <td>15603246</td>\n",
              "      <td>0</td>\n",
              "      <td>27</td>\n",
              "      <td>57000</td>\n",
              "      <td>0</td>\n",
              "    </tr>\n",
              "    <tr>\n",
              "      <th>4</th>\n",
              "      <td>15804002</td>\n",
              "      <td>1</td>\n",
              "      <td>19</td>\n",
              "      <td>76000</td>\n",
              "      <td>0</td>\n",
              "    </tr>\n",
              "  </tbody>\n",
              "</table>\n",
              "</div>\n",
              "      <button class=\"colab-df-convert\" onclick=\"convertToInteractive('df-4dc9f627-8f64-4da2-b211-82cd1314c900')\"\n",
              "              title=\"Convert this dataframe to an interactive table.\"\n",
              "              style=\"display:none;\">\n",
              "        \n",
              "  <svg xmlns=\"http://www.w3.org/2000/svg\" height=\"24px\"viewBox=\"0 0 24 24\"\n",
              "       width=\"24px\">\n",
              "    <path d=\"M0 0h24v24H0V0z\" fill=\"none\"/>\n",
              "    <path d=\"M18.56 5.44l.94 2.06.94-2.06 2.06-.94-2.06-.94-.94-2.06-.94 2.06-2.06.94zm-11 1L8.5 8.5l.94-2.06 2.06-.94-2.06-.94L8.5 2.5l-.94 2.06-2.06.94zm10 10l.94 2.06.94-2.06 2.06-.94-2.06-.94-.94-2.06-.94 2.06-2.06.94z\"/><path d=\"M17.41 7.96l-1.37-1.37c-.4-.4-.92-.59-1.43-.59-.52 0-1.04.2-1.43.59L10.3 9.45l-7.72 7.72c-.78.78-.78 2.05 0 2.83L4 21.41c.39.39.9.59 1.41.59.51 0 1.02-.2 1.41-.59l7.78-7.78 2.81-2.81c.8-.78.8-2.07 0-2.86zM5.41 20L4 18.59l7.72-7.72 1.47 1.35L5.41 20z\"/>\n",
              "  </svg>\n",
              "      </button>\n",
              "      \n",
              "  <style>\n",
              "    .colab-df-container {\n",
              "      display:flex;\n",
              "      flex-wrap:wrap;\n",
              "      gap: 12px;\n",
              "    }\n",
              "\n",
              "    .colab-df-convert {\n",
              "      background-color: #E8F0FE;\n",
              "      border: none;\n",
              "      border-radius: 50%;\n",
              "      cursor: pointer;\n",
              "      display: none;\n",
              "      fill: #1967D2;\n",
              "      height: 32px;\n",
              "      padding: 0 0 0 0;\n",
              "      width: 32px;\n",
              "    }\n",
              "\n",
              "    .colab-df-convert:hover {\n",
              "      background-color: #E2EBFA;\n",
              "      box-shadow: 0px 1px 2px rgba(60, 64, 67, 0.3), 0px 1px 3px 1px rgba(60, 64, 67, 0.15);\n",
              "      fill: #174EA6;\n",
              "    }\n",
              "\n",
              "    [theme=dark] .colab-df-convert {\n",
              "      background-color: #3B4455;\n",
              "      fill: #D2E3FC;\n",
              "    }\n",
              "\n",
              "    [theme=dark] .colab-df-convert:hover {\n",
              "      background-color: #434B5C;\n",
              "      box-shadow: 0px 1px 3px 1px rgba(0, 0, 0, 0.15);\n",
              "      filter: drop-shadow(0px 1px 2px rgba(0, 0, 0, 0.3));\n",
              "      fill: #FFFFFF;\n",
              "    }\n",
              "  </style>\n",
              "\n",
              "      <script>\n",
              "        const buttonEl =\n",
              "          document.querySelector('#df-4dc9f627-8f64-4da2-b211-82cd1314c900 button.colab-df-convert');\n",
              "        buttonEl.style.display =\n",
              "          google.colab.kernel.accessAllowed ? 'block' : 'none';\n",
              "\n",
              "        async function convertToInteractive(key) {\n",
              "          const element = document.querySelector('#df-4dc9f627-8f64-4da2-b211-82cd1314c900');\n",
              "          const dataTable =\n",
              "            await google.colab.kernel.invokeFunction('convertToInteractive',\n",
              "                                                     [key], {});\n",
              "          if (!dataTable) return;\n",
              "\n",
              "          const docLinkHtml = 'Like what you see? Visit the ' +\n",
              "            '<a target=\"_blank\" href=https://colab.research.google.com/notebooks/data_table.ipynb>data table notebook</a>'\n",
              "            + ' to learn more about interactive tables.';\n",
              "          element.innerHTML = '';\n",
              "          dataTable['output_type'] = 'display_data';\n",
              "          await google.colab.output.renderOutput(dataTable, element);\n",
              "          const docLink = document.createElement('div');\n",
              "          docLink.innerHTML = docLinkHtml;\n",
              "          element.appendChild(docLink);\n",
              "        }\n",
              "      </script>\n",
              "    </div>\n",
              "  </div>\n",
              "  "
            ]
          },
          "metadata": {},
          "execution_count": 56
        }
      ]
    },
    {
      "cell_type": "markdown",
      "metadata": {
        "id": "9Thl3lvkn9Kr"
      },
      "source": [
        "**Splitting the dataset into the Training set and Test set**"
      ]
    },
    {
      "cell_type": "code",
      "metadata": {
        "id": "sp359H4XnqD3",
        "colab": {
          "base_uri": "https://localhost:8080/",
          "height": 206
        },
        "outputId": "0b16f40f-cca7-4bae-a385-d575f96cf4ed"
      },
      "source": [
        "y=df['Purchased']\n",
        "x=df[['Gender','Age','EstimatedSalary']]\n",
        "x.head()"
      ],
      "execution_count": null,
      "outputs": [
        {
          "output_type": "execute_result",
          "data": {
            "text/plain": [
              "   Gender  Age  EstimatedSalary\n",
              "0       1   19            19000\n",
              "1       1   35            20000\n",
              "2       0   26            43000\n",
              "3       0   27            57000\n",
              "4       1   19            76000"
            ],
            "text/html": [
              "\n",
              "  <div id=\"df-7fe15cdf-47a0-44a9-b7ec-5ee12f42adeb\">\n",
              "    <div class=\"colab-df-container\">\n",
              "      <div>\n",
              "<style scoped>\n",
              "    .dataframe tbody tr th:only-of-type {\n",
              "        vertical-align: middle;\n",
              "    }\n",
              "\n",
              "    .dataframe tbody tr th {\n",
              "        vertical-align: top;\n",
              "    }\n",
              "\n",
              "    .dataframe thead th {\n",
              "        text-align: right;\n",
              "    }\n",
              "</style>\n",
              "<table border=\"1\" class=\"dataframe\">\n",
              "  <thead>\n",
              "    <tr style=\"text-align: right;\">\n",
              "      <th></th>\n",
              "      <th>Gender</th>\n",
              "      <th>Age</th>\n",
              "      <th>EstimatedSalary</th>\n",
              "    </tr>\n",
              "  </thead>\n",
              "  <tbody>\n",
              "    <tr>\n",
              "      <th>0</th>\n",
              "      <td>1</td>\n",
              "      <td>19</td>\n",
              "      <td>19000</td>\n",
              "    </tr>\n",
              "    <tr>\n",
              "      <th>1</th>\n",
              "      <td>1</td>\n",
              "      <td>35</td>\n",
              "      <td>20000</td>\n",
              "    </tr>\n",
              "    <tr>\n",
              "      <th>2</th>\n",
              "      <td>0</td>\n",
              "      <td>26</td>\n",
              "      <td>43000</td>\n",
              "    </tr>\n",
              "    <tr>\n",
              "      <th>3</th>\n",
              "      <td>0</td>\n",
              "      <td>27</td>\n",
              "      <td>57000</td>\n",
              "    </tr>\n",
              "    <tr>\n",
              "      <th>4</th>\n",
              "      <td>1</td>\n",
              "      <td>19</td>\n",
              "      <td>76000</td>\n",
              "    </tr>\n",
              "  </tbody>\n",
              "</table>\n",
              "</div>\n",
              "      <button class=\"colab-df-convert\" onclick=\"convertToInteractive('df-7fe15cdf-47a0-44a9-b7ec-5ee12f42adeb')\"\n",
              "              title=\"Convert this dataframe to an interactive table.\"\n",
              "              style=\"display:none;\">\n",
              "        \n",
              "  <svg xmlns=\"http://www.w3.org/2000/svg\" height=\"24px\"viewBox=\"0 0 24 24\"\n",
              "       width=\"24px\">\n",
              "    <path d=\"M0 0h24v24H0V0z\" fill=\"none\"/>\n",
              "    <path d=\"M18.56 5.44l.94 2.06.94-2.06 2.06-.94-2.06-.94-.94-2.06-.94 2.06-2.06.94zm-11 1L8.5 8.5l.94-2.06 2.06-.94-2.06-.94L8.5 2.5l-.94 2.06-2.06.94zm10 10l.94 2.06.94-2.06 2.06-.94-2.06-.94-.94-2.06-.94 2.06-2.06.94z\"/><path d=\"M17.41 7.96l-1.37-1.37c-.4-.4-.92-.59-1.43-.59-.52 0-1.04.2-1.43.59L10.3 9.45l-7.72 7.72c-.78.78-.78 2.05 0 2.83L4 21.41c.39.39.9.59 1.41.59.51 0 1.02-.2 1.41-.59l7.78-7.78 2.81-2.81c.8-.78.8-2.07 0-2.86zM5.41 20L4 18.59l7.72-7.72 1.47 1.35L5.41 20z\"/>\n",
              "  </svg>\n",
              "      </button>\n",
              "      \n",
              "  <style>\n",
              "    .colab-df-container {\n",
              "      display:flex;\n",
              "      flex-wrap:wrap;\n",
              "      gap: 12px;\n",
              "    }\n",
              "\n",
              "    .colab-df-convert {\n",
              "      background-color: #E8F0FE;\n",
              "      border: none;\n",
              "      border-radius: 50%;\n",
              "      cursor: pointer;\n",
              "      display: none;\n",
              "      fill: #1967D2;\n",
              "      height: 32px;\n",
              "      padding: 0 0 0 0;\n",
              "      width: 32px;\n",
              "    }\n",
              "\n",
              "    .colab-df-convert:hover {\n",
              "      background-color: #E2EBFA;\n",
              "      box-shadow: 0px 1px 2px rgba(60, 64, 67, 0.3), 0px 1px 3px 1px rgba(60, 64, 67, 0.15);\n",
              "      fill: #174EA6;\n",
              "    }\n",
              "\n",
              "    [theme=dark] .colab-df-convert {\n",
              "      background-color: #3B4455;\n",
              "      fill: #D2E3FC;\n",
              "    }\n",
              "\n",
              "    [theme=dark] .colab-df-convert:hover {\n",
              "      background-color: #434B5C;\n",
              "      box-shadow: 0px 1px 3px 1px rgba(0, 0, 0, 0.15);\n",
              "      filter: drop-shadow(0px 1px 2px rgba(0, 0, 0, 0.3));\n",
              "      fill: #FFFFFF;\n",
              "    }\n",
              "  </style>\n",
              "\n",
              "      <script>\n",
              "        const buttonEl =\n",
              "          document.querySelector('#df-7fe15cdf-47a0-44a9-b7ec-5ee12f42adeb button.colab-df-convert');\n",
              "        buttonEl.style.display =\n",
              "          google.colab.kernel.accessAllowed ? 'block' : 'none';\n",
              "\n",
              "        async function convertToInteractive(key) {\n",
              "          const element = document.querySelector('#df-7fe15cdf-47a0-44a9-b7ec-5ee12f42adeb');\n",
              "          const dataTable =\n",
              "            await google.colab.kernel.invokeFunction('convertToInteractive',\n",
              "                                                     [key], {});\n",
              "          if (!dataTable) return;\n",
              "\n",
              "          const docLinkHtml = 'Like what you see? Visit the ' +\n",
              "            '<a target=\"_blank\" href=https://colab.research.google.com/notebooks/data_table.ipynb>data table notebook</a>'\n",
              "            + ' to learn more about interactive tables.';\n",
              "          element.innerHTML = '';\n",
              "          dataTable['output_type'] = 'display_data';\n",
              "          await google.colab.output.renderOutput(dataTable, element);\n",
              "          const docLink = document.createElement('div');\n",
              "          docLink.innerHTML = docLinkHtml;\n",
              "          element.appendChild(docLink);\n",
              "        }\n",
              "      </script>\n",
              "    </div>\n",
              "  </div>\n",
              "  "
            ]
          },
          "metadata": {},
          "execution_count": 57
        }
      ]
    },
    {
      "cell_type": "code",
      "source": [
        "#Splitting the data\n",
        "from sklearn.model_selection import train_test_split \n",
        "x_train,x_test,y_train,y_test = train_test_split(x,y,test_size=0.25,random_state=0) \n",
        "x_train"
      ],
      "metadata": {
        "colab": {
          "base_uri": "https://localhost:8080/",
          "height": 424
        },
        "id": "r54eBNstIw3E",
        "outputId": "97b4061c-85cf-4fb1-c5d7-1890c3591403"
      },
      "execution_count": null,
      "outputs": [
        {
          "output_type": "execute_result",
          "data": {
            "text/plain": [
              "     Gender  Age  EstimatedSalary\n",
              "250       0   44            39000\n",
              "63        1   32           120000\n",
              "312       0   38            50000\n",
              "159       0   32           135000\n",
              "283       0   52            21000\n",
              "..      ...  ...              ...\n",
              "323       0   48            30000\n",
              "192       1   29            43000\n",
              "117       1   36            52000\n",
              "47        0   27            54000\n",
              "172       0   26           118000\n",
              "\n",
              "[300 rows x 3 columns]"
            ],
            "text/html": [
              "\n",
              "  <div id=\"df-b3aa3eb4-c36d-42c2-a874-c070f06f8830\">\n",
              "    <div class=\"colab-df-container\">\n",
              "      <div>\n",
              "<style scoped>\n",
              "    .dataframe tbody tr th:only-of-type {\n",
              "        vertical-align: middle;\n",
              "    }\n",
              "\n",
              "    .dataframe tbody tr th {\n",
              "        vertical-align: top;\n",
              "    }\n",
              "\n",
              "    .dataframe thead th {\n",
              "        text-align: right;\n",
              "    }\n",
              "</style>\n",
              "<table border=\"1\" class=\"dataframe\">\n",
              "  <thead>\n",
              "    <tr style=\"text-align: right;\">\n",
              "      <th></th>\n",
              "      <th>Gender</th>\n",
              "      <th>Age</th>\n",
              "      <th>EstimatedSalary</th>\n",
              "    </tr>\n",
              "  </thead>\n",
              "  <tbody>\n",
              "    <tr>\n",
              "      <th>250</th>\n",
              "      <td>0</td>\n",
              "      <td>44</td>\n",
              "      <td>39000</td>\n",
              "    </tr>\n",
              "    <tr>\n",
              "      <th>63</th>\n",
              "      <td>1</td>\n",
              "      <td>32</td>\n",
              "      <td>120000</td>\n",
              "    </tr>\n",
              "    <tr>\n",
              "      <th>312</th>\n",
              "      <td>0</td>\n",
              "      <td>38</td>\n",
              "      <td>50000</td>\n",
              "    </tr>\n",
              "    <tr>\n",
              "      <th>159</th>\n",
              "      <td>0</td>\n",
              "      <td>32</td>\n",
              "      <td>135000</td>\n",
              "    </tr>\n",
              "    <tr>\n",
              "      <th>283</th>\n",
              "      <td>0</td>\n",
              "      <td>52</td>\n",
              "      <td>21000</td>\n",
              "    </tr>\n",
              "    <tr>\n",
              "      <th>...</th>\n",
              "      <td>...</td>\n",
              "      <td>...</td>\n",
              "      <td>...</td>\n",
              "    </tr>\n",
              "    <tr>\n",
              "      <th>323</th>\n",
              "      <td>0</td>\n",
              "      <td>48</td>\n",
              "      <td>30000</td>\n",
              "    </tr>\n",
              "    <tr>\n",
              "      <th>192</th>\n",
              "      <td>1</td>\n",
              "      <td>29</td>\n",
              "      <td>43000</td>\n",
              "    </tr>\n",
              "    <tr>\n",
              "      <th>117</th>\n",
              "      <td>1</td>\n",
              "      <td>36</td>\n",
              "      <td>52000</td>\n",
              "    </tr>\n",
              "    <tr>\n",
              "      <th>47</th>\n",
              "      <td>0</td>\n",
              "      <td>27</td>\n",
              "      <td>54000</td>\n",
              "    </tr>\n",
              "    <tr>\n",
              "      <th>172</th>\n",
              "      <td>0</td>\n",
              "      <td>26</td>\n",
              "      <td>118000</td>\n",
              "    </tr>\n",
              "  </tbody>\n",
              "</table>\n",
              "<p>300 rows × 3 columns</p>\n",
              "</div>\n",
              "      <button class=\"colab-df-convert\" onclick=\"convertToInteractive('df-b3aa3eb4-c36d-42c2-a874-c070f06f8830')\"\n",
              "              title=\"Convert this dataframe to an interactive table.\"\n",
              "              style=\"display:none;\">\n",
              "        \n",
              "  <svg xmlns=\"http://www.w3.org/2000/svg\" height=\"24px\"viewBox=\"0 0 24 24\"\n",
              "       width=\"24px\">\n",
              "    <path d=\"M0 0h24v24H0V0z\" fill=\"none\"/>\n",
              "    <path d=\"M18.56 5.44l.94 2.06.94-2.06 2.06-.94-2.06-.94-.94-2.06-.94 2.06-2.06.94zm-11 1L8.5 8.5l.94-2.06 2.06-.94-2.06-.94L8.5 2.5l-.94 2.06-2.06.94zm10 10l.94 2.06.94-2.06 2.06-.94-2.06-.94-.94-2.06-.94 2.06-2.06.94z\"/><path d=\"M17.41 7.96l-1.37-1.37c-.4-.4-.92-.59-1.43-.59-.52 0-1.04.2-1.43.59L10.3 9.45l-7.72 7.72c-.78.78-.78 2.05 0 2.83L4 21.41c.39.39.9.59 1.41.59.51 0 1.02-.2 1.41-.59l7.78-7.78 2.81-2.81c.8-.78.8-2.07 0-2.86zM5.41 20L4 18.59l7.72-7.72 1.47 1.35L5.41 20z\"/>\n",
              "  </svg>\n",
              "      </button>\n",
              "      \n",
              "  <style>\n",
              "    .colab-df-container {\n",
              "      display:flex;\n",
              "      flex-wrap:wrap;\n",
              "      gap: 12px;\n",
              "    }\n",
              "\n",
              "    .colab-df-convert {\n",
              "      background-color: #E8F0FE;\n",
              "      border: none;\n",
              "      border-radius: 50%;\n",
              "      cursor: pointer;\n",
              "      display: none;\n",
              "      fill: #1967D2;\n",
              "      height: 32px;\n",
              "      padding: 0 0 0 0;\n",
              "      width: 32px;\n",
              "    }\n",
              "\n",
              "    .colab-df-convert:hover {\n",
              "      background-color: #E2EBFA;\n",
              "      box-shadow: 0px 1px 2px rgba(60, 64, 67, 0.3), 0px 1px 3px 1px rgba(60, 64, 67, 0.15);\n",
              "      fill: #174EA6;\n",
              "    }\n",
              "\n",
              "    [theme=dark] .colab-df-convert {\n",
              "      background-color: #3B4455;\n",
              "      fill: #D2E3FC;\n",
              "    }\n",
              "\n",
              "    [theme=dark] .colab-df-convert:hover {\n",
              "      background-color: #434B5C;\n",
              "      box-shadow: 0px 1px 3px 1px rgba(0, 0, 0, 0.15);\n",
              "      filter: drop-shadow(0px 1px 2px rgba(0, 0, 0, 0.3));\n",
              "      fill: #FFFFFF;\n",
              "    }\n",
              "  </style>\n",
              "\n",
              "      <script>\n",
              "        const buttonEl =\n",
              "          document.querySelector('#df-b3aa3eb4-c36d-42c2-a874-c070f06f8830 button.colab-df-convert');\n",
              "        buttonEl.style.display =\n",
              "          google.colab.kernel.accessAllowed ? 'block' : 'none';\n",
              "\n",
              "        async function convertToInteractive(key) {\n",
              "          const element = document.querySelector('#df-b3aa3eb4-c36d-42c2-a874-c070f06f8830');\n",
              "          const dataTable =\n",
              "            await google.colab.kernel.invokeFunction('convertToInteractive',\n",
              "                                                     [key], {});\n",
              "          if (!dataTable) return;\n",
              "\n",
              "          const docLinkHtml = 'Like what you see? Visit the ' +\n",
              "            '<a target=\"_blank\" href=https://colab.research.google.com/notebooks/data_table.ipynb>data table notebook</a>'\n",
              "            + ' to learn more about interactive tables.';\n",
              "          element.innerHTML = '';\n",
              "          dataTable['output_type'] = 'display_data';\n",
              "          await google.colab.output.renderOutput(dataTable, element);\n",
              "          const docLink = document.createElement('div');\n",
              "          docLink.innerHTML = docLinkHtml;\n",
              "          element.appendChild(docLink);\n",
              "        }\n",
              "      </script>\n",
              "    </div>\n",
              "  </div>\n",
              "  "
            ]
          },
          "metadata": {},
          "execution_count": 58
        }
      ]
    },
    {
      "cell_type": "markdown",
      "metadata": {
        "id": "XNNxUncRoG6K"
      },
      "source": [
        "**Feature Scaling**"
      ]
    },
    {
      "cell_type": "code",
      "metadata": {
        "id": "loYjT47TnqIG",
        "colab": {
          "base_uri": "https://localhost:8080/"
        },
        "outputId": "38107021-c545-4617-feea-53df119d5c7c"
      },
      "source": [
        "from sklearn.preprocessing import StandardScaler\n",
        "scaler = StandardScaler()\n",
        "\n",
        "x_train = scaler.fit_transform(x_train)\n",
        "x_test = scaler.transform(x_test)\n",
        "x_train"
      ],
      "execution_count": null,
      "outputs": [
        {
          "output_type": "execute_result",
          "data": {
            "text/plain": [
              "array([[-0.98019606,  0.58164944, -0.88670699],\n",
              "       [ 1.02020406, -0.60673761,  1.46173768],\n",
              "       [-0.98019606, -0.01254409, -0.5677824 ],\n",
              "       [-0.98019606, -0.60673761,  1.89663484],\n",
              "       [-0.98019606,  1.37390747, -1.40858358],\n",
              "       [-0.98019606,  1.47293972,  0.99784738],\n",
              "       [ 1.02020406,  0.08648817, -0.79972756],\n",
              "       [ 1.02020406, -0.01254409, -0.24885782],\n",
              "       [-0.98019606, -0.21060859, -0.5677824 ],\n",
              "       [-0.98019606, -0.21060859, -0.19087153],\n",
              "       [-0.98019606, -0.30964085, -1.29261101],\n",
              "       [ 1.02020406, -0.30964085, -0.5677824 ],\n",
              "       [ 1.02020406,  0.38358493,  0.09905991],\n",
              "       [-0.98019606,  0.8787462 , -0.59677555],\n",
              "       [-0.98019606,  2.06713324, -1.17663843],\n",
              "       [ 1.02020406,  1.07681071, -0.13288524],\n",
              "       [-0.98019606,  0.68068169,  1.78066227],\n",
              "       [-0.98019606, -0.70576986,  0.56295021],\n",
              "       [-0.98019606,  0.77971394,  0.35999821],\n",
              "       [-0.98019606,  0.8787462 , -0.53878926],\n",
              "       [ 1.02020406, -1.20093113, -1.58254245],\n",
              "       [ 1.02020406,  2.1661655 ,  0.93986109],\n",
              "       [-0.98019606, -0.01254409,  1.22979253],\n",
              "       [ 1.02020406,  0.18552042,  1.08482681],\n",
              "       [-0.98019606,  0.38358493, -0.48080297],\n",
              "       [ 1.02020406, -0.30964085, -0.30684411],\n",
              "       [ 1.02020406,  0.97777845, -0.8287207 ],\n",
              "       [-0.98019606,  0.97777845,  1.8676417 ],\n",
              "       [-0.98019606, -0.01254409,  1.25878567],\n",
              "       [ 1.02020406, -0.90383437,  2.27354572],\n",
              "       [-0.98019606, -1.20093113, -1.58254245],\n",
              "       [ 1.02020406,  2.1661655 , -0.79972756],\n",
              "       [ 1.02020406, -1.39899564, -1.46656987],\n",
              "       [ 1.02020406,  0.38358493,  2.30253886],\n",
              "       [-0.98019606,  0.77971394,  0.76590222],\n",
              "       [ 1.02020406, -1.00286662, -0.30684411],\n",
              "       [ 1.02020406,  0.08648817,  0.76590222],\n",
              "       [ 1.02020406, -1.00286662,  0.56295021],\n",
              "       [ 1.02020406,  0.28455268,  0.07006676],\n",
              "       [ 1.02020406,  0.68068169, -1.26361786],\n",
              "       [-0.98019606, -0.50770535, -0.01691267],\n",
              "       [-0.98019606, -1.79512465,  0.35999821],\n",
              "       [ 1.02020406, -0.70576986,  0.12805305],\n",
              "       [ 1.02020406,  0.38358493,  0.30201192],\n",
              "       [-0.98019606, -0.30964085,  0.07006676],\n",
              "       [-0.98019606, -0.50770535,  2.30253886],\n",
              "       [ 1.02020406,  0.18552042,  0.04107362],\n",
              "       [-0.98019606,  1.27487521,  2.21555943],\n",
              "       [ 1.02020406,  0.77971394,  0.27301877],\n",
              "       [ 1.02020406, -0.30964085,  0.1570462 ],\n",
              "       [ 1.02020406, -0.01254409, -0.53878926],\n",
              "       [-0.98019606, -0.21060859,  0.1570462 ],\n",
              "       [-0.98019606, -0.11157634,  0.24402563],\n",
              "       [ 1.02020406, -0.01254409, -0.24885782],\n",
              "       [-0.98019606,  2.1661655 ,  1.11381995],\n",
              "       [-0.98019606, -1.79512465,  0.35999821],\n",
              "       [ 1.02020406,  1.86906873,  0.12805305],\n",
              "       [ 1.02020406,  0.38358493, -0.13288524],\n",
              "       [ 1.02020406, -1.20093113,  0.30201192],\n",
              "       [ 1.02020406,  0.77971394,  1.37475825],\n",
              "       [ 1.02020406, -0.30964085, -0.24885782],\n",
              "       [-0.98019606, -1.6960924 , -0.04590581],\n",
              "       [-0.98019606, -1.00286662, -0.74174127],\n",
              "       [ 1.02020406,  0.28455268,  0.50496393],\n",
              "       [-0.98019606, -0.11157634, -1.06066585],\n",
              "       [ 1.02020406, -1.10189888,  0.59194336],\n",
              "       [ 1.02020406,  0.08648817, -0.79972756],\n",
              "       [ 1.02020406, -1.00286662,  1.54871711],\n",
              "       [-0.98019606, -0.70576986,  1.40375139],\n",
              "       [ 1.02020406, -1.29996338,  0.50496393],\n",
              "       [-0.98019606, -0.30964085,  0.04107362],\n",
              "       [ 1.02020406, -0.11157634,  0.01208048],\n",
              "       [ 1.02020406, -0.30964085, -0.88670699],\n",
              "       [ 1.02020406,  0.8787462 , -1.3505973 ],\n",
              "       [-0.98019606, -0.30964085,  2.24455257],\n",
              "       [-0.98019606,  0.97777845,  1.98361427],\n",
              "       [ 1.02020406, -1.20093113,  0.47597078],\n",
              "       [ 1.02020406, -1.29996338,  0.27301877],\n",
              "       [-0.98019606,  1.37390747,  1.98361427],\n",
              "       [ 1.02020406,  1.27487521, -1.3505973 ],\n",
              "       [-0.98019606, -0.30964085, -0.27785096],\n",
              "       [-0.98019606, -0.50770535,  1.25878567],\n",
              "       [ 1.02020406, -0.80480212,  1.08482681],\n",
              "       [ 1.02020406,  0.97777845, -1.06066585],\n",
              "       [-0.98019606,  0.28455268,  0.30201192],\n",
              "       [-0.98019606,  0.97777845,  0.76590222],\n",
              "       [ 1.02020406, -0.70576986, -1.49556302],\n",
              "       [-0.98019606, -0.70576986,  0.04107362],\n",
              "       [ 1.02020406,  0.48261718,  1.72267598],\n",
              "       [-0.98019606,  2.06713324,  0.18603934],\n",
              "       [-0.98019606, -1.99318916, -0.74174127],\n",
              "       [ 1.02020406, -0.21060859,  1.40375139],\n",
              "       [-0.98019606,  0.38358493,  0.59194336],\n",
              "       [-0.98019606,  0.8787462 , -1.14764529],\n",
              "       [-0.98019606, -1.20093113, -0.77073441],\n",
              "       [ 1.02020406,  0.18552042,  0.24402563],\n",
              "       [ 1.02020406,  0.77971394, -0.30684411],\n",
              "       [-0.98019606,  2.06713324, -0.79972756],\n",
              "       [-0.98019606,  0.77971394,  0.12805305],\n",
              "       [ 1.02020406, -0.30964085,  0.6209365 ],\n",
              "       [-0.98019606, -1.00286662, -0.30684411],\n",
              "       [ 1.02020406,  0.18552042, -0.3648304 ],\n",
              "       [ 1.02020406,  2.06713324,  2.12857999],\n",
              "       [-0.98019606,  1.86906873, -1.26361786],\n",
              "       [-0.98019606,  1.37390747, -0.91570013],\n",
              "       [-0.98019606,  0.8787462 ,  1.25878567],\n",
              "       [-0.98019606,  1.47293972,  2.12857999],\n",
              "       [ 1.02020406, -0.30964085, -1.23462472],\n",
              "       [-0.98019606,  1.96810099,  0.91086794],\n",
              "       [-0.98019606,  0.68068169, -0.71274813],\n",
              "       [-0.98019606, -1.49802789,  0.35999821],\n",
              "       [ 1.02020406,  0.77971394, -1.3505973 ],\n",
              "       [ 1.02020406,  0.38358493, -0.13288524],\n",
              "       [-0.98019606, -1.00286662,  0.41798449],\n",
              "       [ 1.02020406, -0.01254409, -0.30684411],\n",
              "       [-0.98019606, -1.20093113,  0.41798449],\n",
              "       [-0.98019606, -0.90383437, -1.20563157],\n",
              "       [-0.98019606, -0.11157634,  0.04107362],\n",
              "       [-0.98019606, -1.59706014, -0.42281668],\n",
              "       [-0.98019606,  0.97777845, -1.00267957],\n",
              "       [ 1.02020406,  1.07681071, -1.20563157],\n",
              "       [-0.98019606, -0.01254409, -0.13288524],\n",
              "       [-0.98019606, -1.10189888, -1.52455616],\n",
              "       [ 1.02020406,  0.77971394, -1.20563157],\n",
              "       [ 1.02020406,  0.97777845,  2.07059371],\n",
              "       [-0.98019606, -1.20093113, -1.52455616],\n",
              "       [-0.98019606, -0.30964085,  0.79489537],\n",
              "       [-0.98019606,  0.08648817, -0.30684411],\n",
              "       [-0.98019606, -1.39899564, -1.23462472],\n",
              "       [ 1.02020406, -0.60673761, -1.49556302],\n",
              "       [ 1.02020406,  0.77971394,  0.53395707],\n",
              "       [ 1.02020406, -0.30964085, -0.33583725],\n",
              "       [ 1.02020406,  1.77003648, -0.27785096],\n",
              "       [ 1.02020406,  0.8787462 , -1.03167271],\n",
              "       [-0.98019606,  0.18552042,  0.07006676],\n",
              "       [ 1.02020406, -0.60673761,  0.8818748 ],\n",
              "       [-0.98019606, -1.89415691, -1.40858358],\n",
              "       [ 1.02020406, -1.29996338,  0.59194336],\n",
              "       [ 1.02020406, -0.30964085,  0.53395707],\n",
              "       [ 1.02020406, -1.00286662, -1.089659  ],\n",
              "       [-0.98019606,  1.17584296, -1.43757673],\n",
              "       [ 1.02020406,  0.18552042, -0.30684411],\n",
              "       [-0.98019606,  1.17584296, -0.74174127],\n",
              "       [ 1.02020406, -0.30964085,  0.07006676],\n",
              "       [-0.98019606,  0.18552042,  2.09958685],\n",
              "       [-0.98019606,  0.77971394, -1.089659  ],\n",
              "       [-0.98019606,  0.08648817,  0.04107362],\n",
              "       [ 1.02020406, -1.79512465,  0.12805305],\n",
              "       [ 1.02020406, -0.90383437,  0.1570462 ],\n",
              "       [ 1.02020406, -0.70576986,  0.18603934],\n",
              "       [ 1.02020406,  0.8787462 , -1.29261101],\n",
              "       [ 1.02020406,  0.18552042, -0.24885782],\n",
              "       [ 1.02020406, -0.4086731 ,  1.22979253],\n",
              "       [-0.98019606, -0.01254409,  0.30201192],\n",
              "       [-0.98019606,  0.38358493,  0.1570462 ],\n",
              "       [-0.98019606,  0.8787462 , -0.65476184],\n",
              "       [-0.98019606,  0.08648817,  0.1570462 ],\n",
              "       [ 1.02020406, -1.89415691, -1.29261101],\n",
              "       [-0.98019606, -0.11157634,  0.30201192],\n",
              "       [ 1.02020406, -0.21060859, -0.27785096],\n",
              "       [ 1.02020406,  0.28455268, -0.50979612],\n",
              "       [ 1.02020406, -0.21060859,  1.6067034 ],\n",
              "       [-0.98019606,  0.97777845, -1.17663843],\n",
              "       [-0.98019606, -0.21060859,  1.63569655],\n",
              "       [-0.98019606,  1.27487521,  1.8676417 ],\n",
              "       [-0.98019606, -1.10189888, -0.3648304 ],\n",
              "       [ 1.02020406, -0.01254409,  0.04107362],\n",
              "       [-0.98019606,  0.08648817, -0.24885782],\n",
              "       [-0.98019606, -1.59706014, -1.23462472],\n",
              "       [-0.98019606, -0.50770535, -0.27785096],\n",
              "       [ 1.02020406,  0.97777845,  0.12805305],\n",
              "       [-0.98019606,  1.96810099, -1.3505973 ],\n",
              "       [ 1.02020406,  1.47293972,  0.07006676],\n",
              "       [-0.98019606, -0.60673761,  1.37475825],\n",
              "       [ 1.02020406,  1.57197197,  0.01208048],\n",
              "       [ 1.02020406, -0.80480212,  0.30201192],\n",
              "       [-0.98019606,  1.96810099,  0.73690908],\n",
              "       [-0.98019606, -1.20093113, -0.50979612],\n",
              "       [ 1.02020406,  0.68068169,  0.27301877],\n",
              "       [ 1.02020406, -1.39899564, -0.42281668],\n",
              "       [ 1.02020406,  0.18552042,  0.1570462 ],\n",
              "       [-0.98019606, -0.50770535, -1.20563157],\n",
              "       [-0.98019606,  0.58164944,  2.01260742],\n",
              "       [ 1.02020406, -1.59706014, -1.49556302],\n",
              "       [-0.98019606, -0.50770535, -0.53878926],\n",
              "       [-0.98019606,  0.48261718,  1.83864855],\n",
              "       [-0.98019606, -1.39899564, -1.089659  ],\n",
              "       [-0.98019606,  0.77971394, -1.37959044],\n",
              "       [ 1.02020406, -0.30964085, -0.42281668],\n",
              "       [-0.98019606,  1.57197197,  0.99784738],\n",
              "       [-0.98019606,  0.97777845,  1.43274454],\n",
              "       [ 1.02020406, -0.30964085, -0.48080297],\n",
              "       [ 1.02020406, -0.11157634,  2.15757314],\n",
              "       [-0.98019606, -1.49802789, -0.1038921 ],\n",
              "       [-0.98019606, -0.11157634,  1.95462113],\n",
              "       [ 1.02020406, -0.70576986, -0.33583725],\n",
              "       [-0.98019606, -0.50770535, -0.8287207 ],\n",
              "       [-0.98019606,  0.68068169, -1.37959044],\n",
              "       [ 1.02020406, -0.80480212, -1.58254245],\n",
              "       [ 1.02020406, -1.89415691, -1.46656987],\n",
              "       [ 1.02020406,  1.07681071,  0.12805305],\n",
              "       [ 1.02020406,  0.08648817,  1.51972397],\n",
              "       [ 1.02020406, -0.30964085,  0.09905991],\n",
              "       [ 1.02020406,  0.08648817,  0.04107362],\n",
              "       [ 1.02020406, -1.39899564, -1.3505973 ],\n",
              "       [-0.98019606,  0.28455268,  0.07006676],\n",
              "       [-0.98019606, -0.90383437,  0.38899135],\n",
              "       [-0.98019606,  1.57197197, -1.26361786],\n",
              "       [-0.98019606, -0.30964085, -0.74174127],\n",
              "       [ 1.02020406, -0.11157634,  0.1570462 ],\n",
              "       [-0.98019606, -0.90383437, -0.65476184],\n",
              "       [-0.98019606, -0.70576986, -0.04590581],\n",
              "       [ 1.02020406,  0.38358493, -0.45180983],\n",
              "       [ 1.02020406, -0.80480212,  1.89663484],\n",
              "       [-0.98019606,  1.37390747,  1.28777882],\n",
              "       [-0.98019606,  1.17584296, -0.97368642],\n",
              "       [ 1.02020406,  1.77003648,  1.83864855],\n",
              "       [ 1.02020406, -0.90383437, -0.24885782],\n",
              "       [ 1.02020406, -0.80480212,  0.56295021],\n",
              "       [ 1.02020406, -1.20093113, -1.5535493 ],\n",
              "       [ 1.02020406, -0.50770535, -1.11865214],\n",
              "       [-0.98019606,  0.28455268,  0.07006676],\n",
              "       [ 1.02020406, -0.21060859, -1.06066585],\n",
              "       [-0.98019606,  1.67100423,  1.6067034 ],\n",
              "       [-0.98019606,  0.97777845,  1.78066227],\n",
              "       [-0.98019606,  0.28455268,  0.04107362],\n",
              "       [-0.98019606, -0.80480212, -0.21986468],\n",
              "       [ 1.02020406, -0.11157634,  0.07006676],\n",
              "       [-0.98019606,  0.28455268, -0.19087153],\n",
              "       [-0.98019606,  1.96810099, -0.65476184],\n",
              "       [-0.98019606, -0.80480212,  1.3457651 ],\n",
              "       [ 1.02020406, -1.79512465, -0.59677555],\n",
              "       [ 1.02020406, -0.11157634,  0.12805305],\n",
              "       [ 1.02020406,  0.28455268, -0.30684411],\n",
              "       [ 1.02020406,  1.07681071,  0.56295021],\n",
              "       [ 1.02020406, -1.00286662,  0.27301877],\n",
              "       [-0.98019606,  1.47293972,  0.35999821],\n",
              "       [ 1.02020406,  0.18552042, -0.3648304 ],\n",
              "       [ 1.02020406,  2.1661655 , -1.03167271],\n",
              "       [ 1.02020406, -0.30964085,  1.11381995],\n",
              "       [ 1.02020406, -1.6960924 ,  0.07006676],\n",
              "       [ 1.02020406, -0.01254409,  0.04107362],\n",
              "       [ 1.02020406,  0.08648817,  1.05583366],\n",
              "       [-0.98019606, -0.11157634, -0.3648304 ],\n",
              "       [-0.98019606, -1.20093113,  0.07006676],\n",
              "       [-0.98019606, -0.30964085, -1.3505973 ],\n",
              "       [-0.98019606,  1.57197197,  1.11381995],\n",
              "       [ 1.02020406, -0.80480212, -1.52455616],\n",
              "       [ 1.02020406,  0.08648817,  1.8676417 ],\n",
              "       [ 1.02020406, -0.90383437, -0.77073441],\n",
              "       [ 1.02020406, -0.50770535, -0.77073441],\n",
              "       [ 1.02020406, -0.30964085, -0.91570013],\n",
              "       [ 1.02020406,  0.28455268, -0.71274813],\n",
              "       [-0.98019606,  0.28455268,  0.07006676],\n",
              "       [-0.98019606,  0.08648817,  1.8676417 ],\n",
              "       [-0.98019606, -1.10189888,  1.95462113],\n",
              "       [-0.98019606, -1.6960924 , -1.5535493 ],\n",
              "       [ 1.02020406, -1.20093113, -1.089659  ],\n",
              "       [ 1.02020406, -0.70576986, -0.1038921 ],\n",
              "       [-0.98019606,  0.08648817,  0.09905991],\n",
              "       [ 1.02020406,  0.28455268,  0.27301877],\n",
              "       [-0.98019606,  0.8787462 , -0.5677824 ],\n",
              "       [-0.98019606,  0.28455268, -1.14764529],\n",
              "       [-0.98019606, -0.11157634,  0.67892279],\n",
              "       [-0.98019606,  2.1661655 , -0.68375498],\n",
              "       [ 1.02020406, -1.29996338, -1.37959044],\n",
              "       [-0.98019606, -1.00286662, -0.94469328],\n",
              "       [-0.98019606, -0.01254409, -0.42281668],\n",
              "       [-0.98019606, -0.21060859, -0.45180983],\n",
              "       [-0.98019606, -1.79512465, -0.97368642],\n",
              "       [-0.98019606,  1.77003648,  0.99784738],\n",
              "       [ 1.02020406,  0.18552042, -0.3648304 ],\n",
              "       [-0.98019606,  0.38358493,  1.11381995],\n",
              "       [-0.98019606, -1.79512465, -1.3505973 ],\n",
              "       [ 1.02020406,  0.18552042, -0.13288524],\n",
              "       [ 1.02020406,  0.8787462 , -1.43757673],\n",
              "       [-0.98019606, -1.99318916,  0.47597078],\n",
              "       [ 1.02020406, -0.30964085,  0.27301877],\n",
              "       [-0.98019606,  1.86906873, -1.06066585],\n",
              "       [-0.98019606, -0.4086731 ,  0.07006676],\n",
              "       [-0.98019606,  1.07681071, -0.88670699],\n",
              "       [-0.98019606, -1.10189888, -1.11865214],\n",
              "       [ 1.02020406, -1.89415691,  0.01208048],\n",
              "       [-0.98019606,  0.08648817,  0.27301877],\n",
              "       [ 1.02020406, -1.20093113,  0.33100506],\n",
              "       [ 1.02020406, -1.29996338,  0.30201192],\n",
              "       [-0.98019606, -1.00286662,  0.44697764],\n",
              "       [ 1.02020406,  1.67100423, -0.88670699],\n",
              "       [-0.98019606,  1.17584296,  0.53395707],\n",
              "       [ 1.02020406,  1.07681071,  0.53395707],\n",
              "       [ 1.02020406,  1.37390747,  2.331532  ],\n",
              "       [-0.98019606, -0.30964085, -0.13288524],\n",
              "       [ 1.02020406,  0.38358493, -0.45180983],\n",
              "       [ 1.02020406, -0.4086731 , -0.77073441],\n",
              "       [ 1.02020406, -0.11157634, -0.50979612],\n",
              "       [-0.98019606,  0.97777845, -1.14764529],\n",
              "       [ 1.02020406, -0.90383437, -0.77073441],\n",
              "       [ 1.02020406, -0.21060859, -0.50979612],\n",
              "       [-0.98019606, -1.10189888, -0.45180983],\n",
              "       [-0.98019606, -1.20093113,  1.40375139]])"
            ]
          },
          "metadata": {},
          "execution_count": 59
        }
      ]
    },
    {
      "cell_type": "markdown",
      "metadata": {
        "id": "_VB4b09roPhq"
      },
      "source": [
        "**Fitting Decision Tree Classification to the Training set**"
      ]
    },
    {
      "cell_type": "code",
      "metadata": {
        "id": "0UxhDc2lnqKu",
        "colab": {
          "base_uri": "https://localhost:8080/"
        },
        "outputId": "981ba928-d8af-4000-c9d9-8bf17da1611e"
      },
      "source": [
        "from sklearn.tree import DecisionTreeClassifier\n",
        "\n",
        "# Instantiate a DecisionTreeClassifier 'dt' with a maximum depth \n",
        "dt = DecisionTreeClassifier()\n",
        "\n",
        "# Fit dt to the training set\n",
        "dt.fit(x_train, y_train) "
      ],
      "execution_count": null,
      "outputs": [
        {
          "output_type": "execute_result",
          "data": {
            "text/plain": [
              "DecisionTreeClassifier()"
            ]
          },
          "metadata": {},
          "execution_count": 60
        }
      ]
    },
    {
      "cell_type": "markdown",
      "metadata": {
        "id": "XOl6_ERWoYh2"
      },
      "source": [
        "**Predicting the Test set results**"
      ]
    },
    {
      "cell_type": "code",
      "metadata": {
        "id": "7xFCuAXjnqPN",
        "colab": {
          "base_uri": "https://localhost:8080/"
        },
        "outputId": "7010e41d-d578-4826-8399-129015edbe8f"
      },
      "source": [
        "y_pred = dt.predict(x_test)\n",
        "y_pred"
      ],
      "execution_count": null,
      "outputs": [
        {
          "output_type": "execute_result",
          "data": {
            "text/plain": [
              "array([0, 0, 0, 0, 0, 0, 0, 1, 0, 0, 0, 0, 0, 0, 0, 1, 0, 0, 1, 0, 0, 0,\n",
              "       0, 1, 0, 1, 0, 0, 0, 0, 0, 0, 1, 0, 0, 0, 0, 0, 0, 1, 0, 0, 0, 0,\n",
              "       1, 0, 0, 0, 0, 1, 1, 0, 0, 1, 1, 1, 0, 0, 1, 0, 0, 1, 0, 1, 0, 1,\n",
              "       0, 0, 0, 1, 1, 0, 0, 1, 0, 0, 0, 0, 1, 1, 1, 1, 0, 0, 1, 0, 1, 1,\n",
              "       1, 0, 0, 1, 0, 0, 0, 1, 0, 1, 1, 1])"
            ]
          },
          "metadata": {},
          "execution_count": 61
        }
      ]
    },
    {
      "cell_type": "markdown",
      "metadata": {
        "id": "pqaQ_HTZogaZ"
      },
      "source": [
        "**Making the Confusion Matrix**"
      ]
    },
    {
      "cell_type": "code",
      "source": [
        "import seaborn as sns\n",
        "confusion_matrix = pd.crosstab(y_test, y_pred, rownames=['Actual'], colnames=['Predicted'])\n",
        "sns.heatmap(confusion_matrix, annot=True)"
      ],
      "metadata": {
        "colab": {
          "base_uri": "https://localhost:8080/",
          "height": 296
        },
        "id": "wWSUGXGbZvJ3",
        "outputId": "0e28c465-946d-4342-a1bb-1976fa027e0d"
      },
      "execution_count": null,
      "outputs": [
        {
          "output_type": "execute_result",
          "data": {
            "text/plain": [
              "<matplotlib.axes._subplots.AxesSubplot at 0x7f25bb3f7dd0>"
            ]
          },
          "metadata": {},
          "execution_count": 63
        },
        {
          "output_type": "display_data",
          "data": {
            "text/plain": [
              "<Figure size 432x288 with 2 Axes>"
            ],
            "image/png": "[encoded data removed]"
          },
          "metadata": {
            "needs_background": "light"
          }
        }
      ]
    },
    {
      "cell_type": "code",
      "metadata": {
        "id": "DdqNOMK8nqSs",
        "colab": {
          "base_uri": "https://localhost:8080/"
        },
        "outputId": "377eac1d-e0a0-4ed9-9e49-3756546529ea"
      },
      "source": [
        "#Evaluation\n",
        "from sklearn.metrics import accuracy_score, roc_auc_score, plot_roc_curve\n",
        "acc = accuracy_score(y_test, y_pred)\n",
        "print(\"Test set accuracy: {:.2f}\".format(acc))"
      ],
      "execution_count": null,
      "outputs": [
        {
          "output_type": "stream",
          "name": "stdout",
          "text": [
            "Test set accuracy: 0.91\n"
          ]
        }
      ]
    },
    {
      "cell_type": "code",
      "source": [
        "acc = roc_auc_score(y_test, y_pred)\n",
        "print(\"Test set auc: {:.2f}\".format(acc))"
      ],
      "metadata": {
        "colab": {
          "base_uri": "https://localhost:8080/"
        },
        "id": "cDQS4qRjQOb7",
        "outputId": "f5f23f20-c18f-427e-962a-5682340e7fa5"
      },
      "execution_count": null,
      "outputs": [
        {
          "output_type": "stream",
          "name": "stdout",
          "text": [
            "Test set auc: 0.90\n"
          ]
        }
      ]
    },
    {
      "cell_type": "code",
      "source": [
        "plot_roc_curve(dt, x_test, y_test)\n"
      ],
      "metadata": {
        "colab": {
          "base_uri": "https://localhost:8080/",
          "height": 351
        },
        "id": "G3dKUCDQQg-s",
        "outputId": "b949bcfb-a725-49ea-935b-09ba3ba1d12c"
      },
      "execution_count": null,
      "outputs": [
        {
          "output_type": "stream",
          "name": "stderr",
          "text": [
            "/usr/local/lib/python3.7/dist-packages/sklearn/utils/deprecation.py:87: FutureWarning: Function plot_roc_curve is deprecated; Function :func:`plot_roc_curve` is deprecated in 1.0 and will be removed in 1.2. Use one of the class methods: :meth:`sklearn.metric.RocCurveDisplay.from_predictions` or :meth:`sklearn.metric.RocCurveDisplay.from_estimator`.\n",
            "  warnings.warn(msg, category=FutureWarning)\n"
          ]
        },
        {
          "output_type": "execute_result",
          "data": {
            "text/plain": [
              "<sklearn.metrics._plot.roc_curve.RocCurveDisplay at 0x7f25bb3c5450>"
            ]
          },
          "metadata": {},
          "execution_count": 66
        },
        {
          "output_type": "display_data",
          "data": {
            "text/plain": [
              "<Figure size 432x288 with 1 Axes>"
            ],
            "image/png": "[encoded data removed]"
          },
          "metadata": {
            "needs_background": "light"
          }
        }
      ]
    },
    {
      "cell_type": "markdown",
      "metadata": {
        "id": "Ko5EDqqiopBl"
      },
      "source": [
        "**Visualising the Training set results**"
      ]
    },
    {
      "cell_type": "code",
      "metadata": {
        "id": "y7C-xZjFnqVC",
        "colab": {
          "base_uri": "https://localhost:8080/"
        },
        "outputId": "81338e39-23d3-4d2d-de6d-b5ee88937d20"
      },
      "source": [
        "acc = roc_auc_score(y_train, dt.predict(x_train))\n",
        "print(\"Train set AUC : \", acc)"
      ],
      "execution_count": null,
      "outputs": [
        {
          "output_type": "stream",
          "name": "stdout",
          "text": [
            "Train set AUC :  1.0\n"
          ]
        }
      ]
    },
    {
      "cell_type": "code",
      "source": [
        "#Reducing overfitting\n",
        "from sklearn.model_selection import cross_val_score #this will help me to do cross- validation\n",
        "\n",
        "for depth in [1,2,3,4,5,6,7,8,9,10,20]:\n",
        "  dt = DecisionTreeClassifier(max_depth=depth) # will tell the DT to not grow past the given threhsold\n",
        "  # Fit dt to the training set\n",
        "  dt.fit(x_train, y_train) # the model is trained\n",
        "  trainAccuracy = accuracy_score(y_train, dt.predict(x_train)) \n",
        "  dt = DecisionTreeClassifier(max_depth=depth) # a fresh model which is not trained yet\n",
        "  valAccuracy = cross_val_score(dt, x, y, cv=10) # syntax : cross_val_Score(freshModel,fts, target, cv= 10/5)\n",
        "  print(\"Depth  : \", depth, \" Training Accuracy : \", trainAccuracy, \" Cross val score : \" ,np.mean(valAccuracy))\n",
        "\n"
      ],
      "metadata": {
        "colab": {
          "base_uri": "https://localhost:8080/"
        },
        "id": "cp_y1Bp_RNrb",
        "outputId": "9544c411-cc86-4842-d324-fa70c06312c7"
      },
      "execution_count": null,
      "outputs": [
        {
          "output_type": "stream",
          "name": "stdout",
          "text": [
            "Depth  :  1  Training Accuracy :  0.82  Cross val score :  0.825\n",
            "Depth  :  2  Training Accuracy :  0.91  Cross val score :  0.8949999999999999\n",
            "Depth  :  3  Training Accuracy :  0.9166666666666666  Cross val score :  0.85\n",
            "Depth  :  4  Training Accuracy :  0.9333333333333333  Cross val score :  0.8724999999999999\n",
            "Depth  :  5  Training Accuracy :  0.9433333333333334  Cross val score :  0.8675\n",
            "Depth  :  6  Training Accuracy :  0.9566666666666667  Cross val score :  0.8625\n",
            "Depth  :  7  Training Accuracy :  0.9633333333333334  Cross val score :  0.8625\n",
            "Depth  :  8  Training Accuracy :  0.9766666666666667  Cross val score :  0.8525\n",
            "Depth  :  9  Training Accuracy :  0.98  Cross val score :  0.845\n",
            "Depth  :  10  Training Accuracy :  0.9933333333333333  Cross val score :  0.8474999999999999\n",
            "Depth  :  20  Training Accuracy :  1.0  Cross val score :  0.835\n"
          ]
        }
      ]
    },
    {
      "cell_type": "markdown",
      "metadata": {
        "id": "ExFSX84Hou9C"
      },
      "source": [
        "**Visualising the Test set results**"
      ]
    },
    {
      "cell_type": "code",
      "metadata": {
        "id": "RjB1Bbi4o4tm",
        "colab": {
          "base_uri": "https://localhost:8080/"
        },
        "outputId": "c072e171-15eb-4798-86e4-23fb80328404"
      },
      "source": [
        "#feature importance\n",
        "from sklearn.model_selection import train_test_split\n",
        "x_train, x_test, y_train, y_test = train_test_split(x, y, test_size=0.25,random_state=0)\n",
        "\n",
        "from matplotlib import pyplot\n",
        "dt = DecisionTreeClassifier(max_depth = 2)\n",
        "# Fit dt to the training set\n",
        "dt.fit(x_train, y_train)\n",
        "importance = dt.feature_importances_\n",
        "#pyplot.bar([x for x in range(len(importance))], importance)\n",
        "list(zip(importance,x_test.columns)) # it calculates the feature importances based on IG"
      ],
      "execution_count": null,
      "outputs": [
        {
          "output_type": "execute_result",
          "data": {
            "text/plain": [
              "[(0.0, 'Gender'),\n",
              " (0.5611909829592391, 'Age'),\n",
              " (0.438809017040761, 'EstimatedSalary')]"
            ]
          },
          "metadata": {},
          "execution_count": 68
        }
      ]
    },
    {
      "cell_type": "code",
      "metadata": {
        "id": "mRqoaIx_o4xV",
        "colab": {
          "base_uri": "https://localhost:8080/",
          "height": 369
        },
        "outputId": "4ac37791-87e7-4e8d-ba0b-a0fc53414056"
      },
      "source": [
        "from sklearn import tree\n",
        "tree.plot_tree(dt) "
      ],
      "execution_count": null,
      "outputs": [
        {
          "output_type": "execute_result",
          "data": {
            "text/plain": [
              "[Text(0.5, 0.8333333333333334, 'X[1] <= 44.5\\ngini = 0.466\\nsamples = 300\\nvalue = [189, 111]'),\n",
              " Text(0.25, 0.5, 'X[2] <= 90500.0\\ngini = 0.303\\nsamples = 215\\nvalue = [175, 40]'),\n",
              " Text(0.125, 0.16666666666666666, 'gini = 0.076\\nsamples = 176\\nvalue = [169, 7]'),\n",
              " Text(0.375, 0.16666666666666666, 'gini = 0.26\\nsamples = 39\\nvalue = [6, 33]'),\n",
              " Text(0.75, 0.5, 'X[1] <= 46.5\\ngini = 0.275\\nsamples = 85\\nvalue = [14, 71]'),\n",
              " Text(0.625, 0.16666666666666666, 'gini = 0.469\\nsamples = 16\\nvalue = [6, 10]'),\n",
              " Text(0.875, 0.16666666666666666, 'gini = 0.205\\nsamples = 69\\nvalue = [8, 61]')]"
            ]
          },
          "metadata": {},
          "execution_count": 69
        },
        {
          "output_type": "display_data",
          "data": {
            "text/plain": [
              "<Figure size 432x288 with 1 Axes>"
            ],
            "image/png": "[encoded data removed]"
          },
          "metadata": {
            "needs_background": "light"
          }
        }
      ]
    },
    {
      "cell_type": "code",
      "metadata": {
        "id": "m__02I84nqYf",
        "colab": {
          "base_uri": "https://localhost:8080/",
          "height": 983
        },
        "outputId": "a9f25d5d-8c08-4df8-8225-3cadd2b561b9"
      },
      "source": [
        "fig, axes = plt.subplots(nrows = 1,ncols = 1,figsize = (4,4), dpi=300)\n",
        "tree.plot_tree(dt,\n",
        "               feature_names = x_test.columns,\n",
        "               filled = True);\n",
        "fig.savefig('imagename.png')"
      ],
      "execution_count": null,
      "outputs": [
        {
          "output_type": "display_data",
          "data": {
            "text/plain": [
              "<Figure size 1200x1200 with 1 Axes>"
            ],
            "image/png": "[encoded data removed]"
          },
          "metadata": {
            "needs_background": "light"
          }
        }
      ]
    }
  ]
}